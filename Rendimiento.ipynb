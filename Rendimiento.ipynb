{
 "cells": [
  {
   "cell_type": "markdown",
   "metadata": {},
   "source": [
    "# eLTL monitor with Apache Flink API's in Scala\n",
    "## by Adnan Bouaouda Arafa, Sept. 2021, UMA Málaga."
   ]
  },
  {
   "cell_type": "code",
   "execution_count": 1,
   "metadata": {
    "collapsed": true
   },
   "outputs": [
    {
     "data": {
      "text/plain": [
       "\u001b[32mimport \u001b[39m\u001b[36m$ivy.$                                  \n",
       "\u001b[39m\r\n",
       "\u001b[32mimport \u001b[39m\u001b[36m$ivy.$                                       \n",
       "\u001b[39m\r\n",
       "\u001b[32mimport \u001b[39m\u001b[36m$ivy.$                                     \n",
       "\u001b[39m\r\n",
       "\u001b[32mimport \u001b[39m\u001b[36m$ivy.$                                               \n",
       "\u001b[39m\r\n",
       "\u001b[32mimport \u001b[39m\u001b[36m$ivy.$                              \n",
       "\u001b[39m\r\n",
       "\u001b[32mimport \u001b[39m\u001b[36m$ivy.$                          \n",
       "\u001b[39m\r\n",
       "\u001b[32mimport \u001b[39m\u001b[36m$ivy.$                                               \n",
       "\u001b[39m\r\n",
       "\u001b[32mimport \u001b[39m\u001b[36m$ivy.$                                        \u001b[39m"
      ]
     },
     "execution_count": 1,
     "metadata": {},
     "output_type": "execute_result"
    }
   ],
   "source": [
    "import $ivy.`org.apache.spark::spark-sql:2.4.0`\n",
    "import $ivy.`org.apache.flink::flink-clients:1.10.3`\n",
    "import $ivy.`org.apache.flink::flink-scala:1.10.3`\n",
    "import $ivy.`org.apache.flink::flink-streaming-scala:1.10.3`\n",
    "import $ivy.`org.scalaz::scalaz-core:7.3.5`\n",
    "import $ivy.`com.lihaoyi::os-lib:0.2.7`\n",
    "import $ivy.`org.apache.flink:flink-runtime-web_2.12:1.11.2`\n",
    "import $ivy.`com.storm-enroute::scalameter-core:0.18`"
   ]
  },
  {
   "cell_type": "code",
   "execution_count": 2,
   "metadata": {},
   "outputs": [
    {
     "data": {
      "text/plain": [
       "\u001b[32mimport \u001b[39m\u001b[36morg.apache.log4j.{Level, Logger}\n",
       "\u001b[39m"
      ]
     },
     "execution_count": 2,
     "metadata": {},
     "output_type": "execute_result"
    }
   ],
   "source": [
    "import org.apache.log4j.{Level, Logger}\n",
    "Logger.getLogger(\"org\").setLevel(Level.OFF)"
   ]
  },
  {
   "cell_type": "code",
   "execution_count": 3,
   "metadata": {
    "autoscroll": "auto",
    "collapsed": true
   },
   "outputs": [
    {
     "data": {
      "text/plain": [
       "\u001b[32mimport \u001b[39m\u001b[36morg.apache.flink.api.scala._\n",
       "\u001b[39m\r\n",
       "\u001b[32mimport \u001b[39m\u001b[36morg.apache.flink.api.scala.utils._\n",
       "\u001b[39m\r\n",
       "\u001b[32mimport \u001b[39m\u001b[36morg.apache.flink.util.Collector\n",
       "\u001b[39m\r\n",
       "\u001b[32mimport \u001b[39m\u001b[36mjavax.script._\n",
       "\u001b[39m\r\n",
       "\u001b[32mimport \u001b[39m\u001b[36mscala.annotation.tailrec\n",
       "\u001b[39m\r\n",
       "\u001b[32mimport \u001b[39m\u001b[36mscalaz._\n",
       "\u001b[39m\r\n",
       "\u001b[32mimport \u001b[39m\u001b[36mScalaz._\n",
       "\u001b[39m\r\n",
       "\u001b[32mimport \u001b[39m\u001b[36morg.scalameter._\u001b[39m"
      ]
     },
     "execution_count": 3,
     "metadata": {},
     "output_type": "execute_result"
    }
   ],
   "source": [
    "import org.apache.flink.api.scala._\n",
    "import org.apache.flink.api.scala.utils._\n",
    "import org.apache.flink.util.Collector\n",
    "import javax.script._\n",
    "import scala.annotation.tailrec\n",
    "import scalaz._\n",
    "import Scalaz._\n",
    "import org.scalameter._"
   ]
  },
  {
   "cell_type": "code",
   "execution_count": 4,
   "metadata": {
    "scrolled": true
   },
   "outputs": [
    {
     "data": {
      "text/plain": [
       "\u001b[32mimport \u001b[39m\u001b[36morg.apache.flink.configuration.{ConfigConstants, Configuration,RestOptions}\n",
       "\u001b[39m\r\n",
       "\u001b[36mconfig\u001b[39m: \u001b[32mConfiguration\u001b[39m = {rest.port=8081}\r\n",
       "\u001b[36mbenv\u001b[39m: \u001b[32mExecutionEnvironment\u001b[39m = org.apache.flink.api.scala.ExecutionEnvironment@5e84fcb5"
      ]
     },
     "execution_count": 4,
     "metadata": {},
     "output_type": "execute_result"
    }
   ],
   "source": [
    "import org.apache.flink.configuration.{ConfigConstants, Configuration,RestOptions}\n",
    "val config = new Configuration()\n",
    "val benv = ExecutionEnvironment.createLocalEnvironmentWithWebUI(config)"
   ]
  },
  {
   "cell_type": "code",
   "execution_count": 5,
   "metadata": {},
   "outputs": [
    {
     "data": {
      "text/plain": [
       "defined \u001b[32mtype\u001b[39m \u001b[36mT\u001b[39m\r\n",
       "defined \u001b[32mfunction\u001b[39m \u001b[36mmemoizeFnc\u001b[39m\r\n",
       "defined \u001b[32mfunction\u001b[39m \u001b[36mapply\u001b[39m\r\n",
       "\u001b[36mmApply\u001b[39m: (\u001b[32mDataSet\u001b[39m[\u001b[32mTuple2\u001b[39m[\u001b[32mLong\u001b[39m, \u001b[32mNothing\u001b[39m]], \u001b[32mFunction1\u001b[39m[\u001b[32mNothing\u001b[39m, \u001b[32mBoolean\u001b[39m]) => \u001b[32mDataSet\u001b[39m[(\u001b[32mLong\u001b[39m, \u001b[32mBoolean\u001b[39m)] = scalaz.Memo$$$Lambda$112/0x0000000801377a40@7403ed42\r\n",
       "defined \u001b[32mfunction\u001b[39m \u001b[36mparse\u001b[39m\r\n",
       "defined \u001b[32mfunction\u001b[39m \u001b[36mintervalPQ\u001b[39m\r\n",
       "\u001b[36mmIntervalPQ\u001b[39m: (\u001b[32mList\u001b[39m[\u001b[32mLong\u001b[39m], \u001b[32mList\u001b[39m[\u001b[32mLong\u001b[39m], \u001b[32mLong\u001b[39m, \u001b[32mLong\u001b[39m) => \u001b[32mList\u001b[39m[(\u001b[32mLong\u001b[39m, \u001b[32mLong\u001b[39m)] = scalaz.Memo$$$Lambda$112/0x0000000801377a40@4086e02\r\n",
       "defined \u001b[32mfunction\u001b[39m \u001b[36mintervalP\u001b[39m\r\n",
       "\u001b[36mmIntervalP\u001b[39m: (\u001b[32mList\u001b[39m[\u001b[32mLong\u001b[39m], \u001b[32mLong\u001b[39m, \u001b[32mLong\u001b[39m) => \u001b[32mList\u001b[39m[(\u001b[32mLong\u001b[39m, \u001b[32mLong\u001b[39m)] = scalaz.Memo$$$Lambda$112/0x0000000801377a40@5ba526d0\r\n",
       "defined \u001b[32mfunction\u001b[39m \u001b[36mintervals\u001b[39m\r\n",
       "defined \u001b[32mfunction\u001b[39m \u001b[36mbPQ\u001b[39m\r\n",
       "defined \u001b[32mfunction\u001b[39m \u001b[36mPhi\u001b[39m\r\n",
       "defined \u001b[32mfunction\u001b[39m \u001b[36mTrue\u001b[39m\r\n",
       "defined \u001b[32mfunction\u001b[39m \u001b[36mPhiAll\u001b[39m\r\n",
       "defined \u001b[32mfunction\u001b[39m \u001b[36mPhiK\u001b[39m\r\n",
       "defined \u001b[32mfunction\u001b[39m \u001b[36mNeg\u001b[39m\r\n",
       "defined \u001b[32mfunction\u001b[39m \u001b[36mOr\u001b[39m\r\n",
       "defined \u001b[32mfunction\u001b[39m \u001b[36mU\u001b[39m\r\n",
       "defined \u001b[32mfunction\u001b[39m \u001b[36mE\u001b[39m\r\n",
       "defined \u001b[32mfunction\u001b[39m \u001b[36mE2\u001b[39m\r\n",
       "defined \u001b[32mfunction\u001b[39m \u001b[36mA\u001b[39m\r\n",
       "defined \u001b[32mfunction\u001b[39m \u001b[36mA2\u001b[39m"
      ]
     },
     "execution_count": 5,
     "metadata": {},
     "output_type": "execute_result"
    }
   ],
   "source": [
    "/**\n",
    " * Implements the \"eLTL\" logic\n",
    " */\n",
    "\n",
    "type T  = (Long, Int)\n",
    "def memoizeFnc[K, V](f: K => V): K => V = {\n",
    "val cache = collection.mutable.Map.empty[K, V]\n",
    "    k =>\n",
    "        cache.getOrElse(k, {\n",
    "        cache update(k, f(k))\n",
    "        cache(k)\n",
    "        })\n",
    "}\n",
    "\n",
    "def apply[T](b: DataSet[(Long, T)], cond: T => Boolean): DataSet[(Long, Boolean)] \n",
    "        =  b.map{ e => (e._1, cond(e._2))}\n",
    "val mApply = Memo.immutableHashMapMemo{apply _ tupled}\n",
    "\n",
    "def parse[T](b: DataSet[(Long, T)], cond: T => Boolean): List[Long]\n",
    "    = { lazy val lazy_b = apply(b, cond).filter{_._2}.map { pair => pair._1 }.collect.toList\n",
    "        lazy_b\n",
    "    }\n",
    "            \n",
    "def intervalPQ(lp: List[Long], lq: List[Long],  ti: Long = 0, tf: Long = Long.MaxValue): List[(Long, Long)] = {\n",
    "try{    \n",
    "    @tailrec def tIntervslPQ(Lp: List[Long], Lq: List[Long], acc: List[(Long, Long)] = List.empty[(Long, Long)]):List[(Long, Long)] = {\n",
    "        val  Lqq = Lq.dropWhile(_ <= Lp.head)\n",
    "        val  Lpp = Lp.dropWhile(_ <= Lqq.head)\n",
    "        (Lpp, Lqq) match {\n",
    "            case (List(), _) => acc ++ List((Lp.head, Lqq.head))\n",
    "            case (_, List()) => acc ++ List((Lp.head, Lqq.head))\n",
    "            case (_, _)   => tIntervslPQ(Lpp, Lqq.tail, acc ++ List((Lp.head, Lqq.head)))\n",
    "        }\n",
    "}\n",
    "    val  lpp = lp.sortWith(_ < _) filter (e => e >= ti  && e<= lq.max)\n",
    "    val  lqq = lq.sortWith(_ < _) filter (e => e >= ti  && e<= tf)\n",
    "    tIntervslPQ(lpp, lqq)\n",
    "}catch{case e: Exception => List.empty[(Long, Long)]}\n",
    "} \n",
    "val mIntervalPQ = Memo.immutableHashMapMemo{intervalPQ _ tupled}\n",
    "def intervalP(lp: List[Long],  ti: Long = 0, tf: Long = Long.MaxValue): List[(Long, Long)]={\n",
    "    val lpp = lp.sortWith(_ < _) filter (e => e >= ti  && e<= tf)\n",
    "    lpp zip lpp}\n",
    "val mIntervalP  = Memo.immutableHashMapMemo{intervalP _ tupled}\n",
    "def intervals[T](b: DataSet[(Long, T)], p: T => Boolean, q: T => Boolean = null, ti: Long = 0, tf: Long = Long.MaxValue)\n",
    "=  q match{\n",
    "        case null => mIntervalP(parse(b,p), ti, tf)\n",
    "        case _    => mIntervalPQ(parse(b,p), parse(b,q), ti, tf)\n",
    "    }\n",
    "def bPQ[T](b: DataSet[(Long, T)], i: List[(Long, Long)])\n",
    "= i.map(e => b.filter(x => (x._1 >= e._1) && (x._1 <= e._2)))\n",
    "def Phi[T](b: DataSet[(Long, T)], ti: Long = 0, tf: Long = Long.MaxValue): Boolean = ???\n",
    "def True[T](b: DataSet[(Long, T)], ti: Long = 0, tf: Long = Long.MaxValue): Boolean = true\n",
    "def PhiAll[T](p: T => Boolean)(b: DataSet[(Long, T)], ti: Long, tf: Long): Boolean = {\n",
    "        val bb = b.filter(e => (e._1 >= ti) && (e._1 <= tf))\n",
    "        bb.map(e => p(e._2)).collect.forall(_ == true)\n",
    "}\n",
    "def PhiK[T](K: Long)(p: T => Boolean, q: T => Boolean = null)\n",
    "    = {(b: DataSet[(Long, T)], ti: Long, tf: Long) \n",
    "    => intervals(b, p, q, ti, tf).map(e => (e._2 - e._1 >= K)).\n",
    "    reduceOption(_ || _).getOrElse(false)}\n",
    "def Neg[T](F: (DataSet[(Long, T)], Long, Long) => Boolean)\n",
    "    ={(b: DataSet[(Long, T)], ti: Long, tf: Long) => !F(b, ti, tf)}\n",
    "def Or[T](F1: (DataSet[(Long, T)], Long, Long) => Boolean, \n",
    "        F2: (DataSet[(Long, T)], Long, Long) => Boolean)\n",
    "    = {(b: DataSet[(Long, T)], ti: Long, tf: Long) \n",
    "    => F1(b, ti, tf) || F2(b, ti, tf)}  \n",
    "def U[T](p: T => Boolean, q: T => Boolean = null)\n",
    "    (F1: (DataSet[(Long, T)], Long, Long) => Boolean,\n",
    "    F2: (DataSet[(Long, T)], Long, Long) => Boolean)\n",
    "    = {(b: DataSet[(Long, T)], ti: Long, tf: Long)\n",
    "    => intervals(b, p, q, ti, tf).map(e => F1(b, ti, e._1) && F2(b, e._1, e._2)).\n",
    "    reduceOption(_ || _).getOrElse(false)}                                 \n",
    "def E[T](p: T => Boolean, q: T => Boolean = null)\n",
    "    (F: (DataSet[(Long, T)], Long, Long) => Boolean)\n",
    "    = {(b: DataSet[(Long, T)], ti: Long, tf: Long) \n",
    "    =>  val I = intervals(b, p, q, ti, tf); I.map(e => F(b, e._1, e._2)).\n",
    "    reduceOption(_ || _).getOrElse(false)}\n",
    "def E2[T](p: T => Boolean, q: T => Boolean = null)\n",
    "        (F: (DataSet[(Long, T)], Long, Long) => Boolean)  = U(p, q)(True, F)\n",
    "def A[T](p: T => Boolean, q: T => Boolean = {(e: T) => true})\n",
    "        (F: (DataSet[(Long, T)], Long, Long) => Boolean)\n",
    "    = {(b: DataSet[(Long, T)], ti: Long, tf: Long)\n",
    "    =>  val I = intervals(b, p, q, ti, tf); I.map(e => F(b, e._1, e._2)).reduceOption(_ && _).getOrElse(false)}\n",
    "def A2[T](p: T => Boolean, q: T => Boolean = null)\n",
    "        (F: (DataSet[(Long, T)], Long, Long) => Boolean)  = Neg(E(p, q)(Neg(F)))"
   ]
  },
  {
   "cell_type": "code",
   "execution_count": 6,
   "metadata": {
    "autoscroll": "auto"
   },
   "outputs": [
    {
     "name": "stdout",
     "output_type": "stream",
     "text": [
      "true\r\n"
     ]
    },
    {
     "data": {
      "text/plain": [
       "defined \u001b[32mtype\u001b[39m \u001b[36mTT\u001b[39m\r\n",
       "\u001b[36mpath\u001b[39m: \u001b[32mos\u001b[39m.\u001b[32mpackage\u001b[39m.\u001b[32mpwd\u001b[39m.\u001b[32mThisType\u001b[39m = root/\u001b[32m'Users\u001b[39m/\u001b[32m'bouao\u001b[39m/\u001b[32m'git\u001b[39m/\u001b[32m'ze2nb\u001b[39m/\u001b[32m'test\u001b[39m/\u001b[32m'csv\u001b[39m\r\n",
       "\u001b[36mbenv\u001b[39m: \u001b[32mExecutionEnvironment\u001b[39m = org.apache.flink.api.scala.ExecutionEnvironment@21facd61\r\n",
       "\u001b[36m_10\u001b[39m: \u001b[32mDataSet\u001b[39m[(\u001b[32mLong\u001b[39m, \u001b[32mInt\u001b[39m)] = org.apache.flink.api.scala.DataSet@ff111f3\r\n",
       "defined \u001b[32mfunction\u001b[39m \u001b[36mStart\u001b[39m\r\n",
       "defined \u001b[32mfunction\u001b[39m \u001b[36mStop\u001b[39m\r\n",
       "defined \u001b[32mfunction\u001b[39m \u001b[36mCond\u001b[39m"
      ]
     },
     "execution_count": 6,
     "metadata": {},
     "output_type": "execute_result"
    }
   ],
   "source": [
    "//type T = (Long, Int)\n",
    "type TT = Int\n",
    "val path = os.pwd / \"csv\"\n",
    "val benv = ExecutionEnvironment.getExecutionEnvironment\n",
    "val _10      = benv.readCsvFile[T](path+\"/10.csv\", fieldDelimiter = \";\")\n",
    "\n",
    "def Start: (TT => Boolean) = (e: TT) => {e == 1}\n",
    "def Stop : (TT => Boolean) = (e: TT) => {e == 3}\n",
    "def Cond : (TT => Boolean) = (e: TT) => {e == 2}\n",
    "\n",
    "println(A(Start, Stop) (E(Cond) (True)) (_10, 0, Long.MaxValue))"
   ]
  },
  {
   "cell_type": "code",
   "execution_count": 7,
   "metadata": {},
   "outputs": [
    {
     "name": "stdout",
     "output_type": "stream",
     "text": [
      "true\r\n"
     ]
    },
    {
     "data": {
      "text/plain": [
       "\u001b[36m_001in1M\u001b[39m: \u001b[32mDataSet\u001b[39m[(\u001b[32mLong\u001b[39m, \u001b[32mInt\u001b[39m)] = org.apache.flink.api.scala.DataSet@57f98eb7"
      ]
     },
     "execution_count": 7,
     "metadata": {},
     "output_type": "execute_result"
    }
   ],
   "source": [
    "val _001in1M      = benv.readCsvFile[T](path+\"/001in1M.csv\", fieldDelimiter = \";\")\n",
    "println(A(Start, Stop) (A(Cond) (True)) (_001in1M, 0, Long.MaxValue))"
   ]
  },
  {
   "cell_type": "code",
   "execution_count": 8,
   "metadata": {},
   "outputs": [
    {
     "name": "stdout",
     "output_type": "stream",
     "text": [
      "false\r\n"
     ]
    },
    {
     "data": {
      "text/plain": [
       "\u001b[36m_001in1M\u001b[39m: \u001b[32mDataSet\u001b[39m[(\u001b[32mLong\u001b[39m, \u001b[32mInt\u001b[39m)] = org.apache.flink.api.scala.DataSet@513d0baa"
      ]
     },
     "execution_count": 8,
     "metadata": {},
     "output_type": "execute_result"
    }
   ],
   "source": [
    "val _001in1M      = benv.readCsvFile[T](path+\"/001in1M.csv\", fieldDelimiter = \";\")\n",
    "println(A(Start, Stop) (PhiAll(Cond)) (_001in1M, 0, Long.MaxValue))"
   ]
  },
  {
   "cell_type": "code",
   "execution_count": 9,
   "metadata": {},
   "outputs": [
    {
     "name": "stdout",
     "output_type": "stream",
     "text": [
      "false\r\n"
     ]
    },
    {
     "data": {
      "text/plain": [
       "\u001b[36m_100in1M\u001b[39m: \u001b[32mDataSet\u001b[39m[(\u001b[32mLong\u001b[39m, \u001b[32mInt\u001b[39m)] = org.apache.flink.api.scala.DataSet@5b43e0b5"
      ]
     },
     "execution_count": 9,
     "metadata": {},
     "output_type": "execute_result"
    }
   ],
   "source": [
    "val _100in1M      = benv.readCsvFile[T](path+\"/100in1M.csv\", fieldDelimiter = \";\")\n",
    "println(A(Start, Stop) (PhiAll(Cond)) (_100in1M, 0, Long.MaxValue))"
   ]
  },
  {
   "cell_type": "code",
   "execution_count": 10,
   "metadata": {},
   "outputs": [
    {
     "data": {
      "text/plain": [
       "\u001b[36m_10\u001b[39m: \u001b[32mDataSet\u001b[39m[(\u001b[32mLong\u001b[39m, \u001b[32mInt\u001b[39m)] = org.apache.flink.api.scala.DataSet@54a8f746"
      ]
     },
     "execution_count": 10,
     "metadata": {},
     "output_type": "execute_result"
    }
   ],
   "source": [
    "val _10      = benv.readCsvFile[T](path+\"/10.csv\", fieldDelimiter = \";\")"
   ]
  },
  {
   "cell_type": "code",
   "execution_count": 11,
   "metadata": {},
   "outputs": [
    {
     "data": {
      "text/plain": [
       "\u001b[36mf\u001b[39m: \u001b[32mDataSet\u001b[39m[(\u001b[32mLong\u001b[39m, \u001b[32mTT\u001b[39m)] => \u001b[32mBoolean\u001b[39m = <function1>"
      ]
     },
     "execution_count": 11,
     "metadata": {},
     "output_type": "execute_result"
    }
   ],
   "source": [
    "val f = (d : org.apache.flink.api.scala.DataSet[(Long, TT)]) => A(Start, Stop) (E(Cond) (True)) (d, 0, Long.MaxValue)"
   ]
  },
  {
   "cell_type": "code",
   "execution_count": 68,
   "metadata": {},
   "outputs": [
    {
     "name": "stdout",
     "output_type": "stream",
     "text": [
      "Formula performance 1: A(Start, Stop) (E(Cond) (True))\n",
      "Formula performance 2: A2(Start, Stop) (E2(Cond) (True))\n",
      "Both formulae check if eventually exists number 2 in any interval (1, 3)\n",
      "The stream example contains:\n",
      "Buffer((7,0), (8,0), (4,0), (5,2), (1,1), (2,0), (10,3), (6,0), (9,0), (3,0))\n",
      "We will increase the number of this interval from 10 to 100 and mesure the elapsed time.\n",
      "List(5881.2422 ms, 9839.1954 ms, 14255.8825 ms, 16507.5339 ms, 22480.811 ms, 81775.423 ms, 222913.4281 ms, 261493.8504 ms, 306852.022 ms, 365467.7957 ms)\n",
      "List(44346.7055 ms, 82257.1553 ms, 119306.5816 ms, 142293.3314 ms, 195938.6269 ms, 240020.2545 ms, 283401.4091 ms, 101438.3251 ms, 294356.5598 ms, 131324.591 ms)\n",
      "38465; 72418; 105051; 125786; 173458; 158245; 60488; -160055; -12496; -234143\n"
     ]
    },
    {
     "ename": "",
     "evalue": "",
     "output_type": "error",
     "traceback": [
      "\u001b[31morg.apache.flink.runtime.client.JobExecutionException: Job execution failed.\u001b[39m\r\n  org.apache.flink.runtime.jobmaster.JobResult.toJobExecutionResult(\u001b[32mJobResult.java\u001b[39m:\u001b[32m147\u001b[39m)\r\n  org.apache.flink.client.program.PerJobMiniClusterFactory$PerJobMiniClusterJobClient.lambda$getJobExecutionResult$2(\u001b[32mPerJobMiniClusterFactory.java\u001b[39m:\u001b[32m175\u001b[39m)\r\n  java.util.concurrent.CompletableFuture$UniApply.tryFire(\u001b[32mCompletableFuture.java\u001b[39m:\u001b[32m642\u001b[39m)\r\n  java.util.concurrent.CompletableFuture.postComplete(\u001b[32mCompletableFuture.java\u001b[39m:\u001b[32m506\u001b[39m)\r\n  java.util.concurrent.CompletableFuture.complete(\u001b[32mCompletableFuture.java\u001b[39m:\u001b[32m2137\u001b[39m)\r\n  org.apache.flink.runtime.concurrent.FutureUtils$1.onComplete(\u001b[32mFutureUtils.java\u001b[39m:\u001b[32m874\u001b[39m)\r\n  akka.dispatch.OnComplete.internal(\u001b[32mFuture.scala\u001b[39m:\u001b[32m264\u001b[39m)\r\n  akka.dispatch.OnComplete.internal(\u001b[32mFuture.scala\u001b[39m:\u001b[32m261\u001b[39m)\r\n  akka.dispatch.japi$CallbackBridge.apply(\u001b[32mFuture.scala\u001b[39m:\u001b[32m191\u001b[39m)\r\n  akka.dispatch.japi$CallbackBridge.apply(\u001b[32mFuture.scala\u001b[39m:\u001b[32m188\u001b[39m)\r\n  scala.concurrent.impl.CallbackRunnable.run(\u001b[32mPromise.scala\u001b[39m:\u001b[32m36\u001b[39m)\r\n  org.apache.flink.runtime.concurrent.Executors$DirectExecutionContext.execute(\u001b[32mExecutors.java\u001b[39m:\u001b[32m74\u001b[39m)\r\n  scala.concurrent.impl.CallbackRunnable.executeWithValue(\u001b[32mPromise.scala\u001b[39m:\u001b[32m44\u001b[39m)\r\n  scala.concurrent.impl.Promise$DefaultPromise.tryComplete(\u001b[32mPromise.scala\u001b[39m:\u001b[32m252\u001b[39m)\r\n  akka.pattern.PromiseActorRef.$bang(\u001b[32mAskSupport.scala\u001b[39m:\u001b[32m572\u001b[39m)\r\n  akka.pattern.PipeToSupport$PipeableFuture$$anonfun$pipeTo$1.applyOrElse(\u001b[32mPipeToSupport.scala\u001b[39m:\u001b[32m22\u001b[39m)\r\n  akka.pattern.PipeToSupport$PipeableFuture$$anonfun$pipeTo$1.applyOrElse(\u001b[32mPipeToSupport.scala\u001b[39m:\u001b[32m21\u001b[39m)\r\n  scala.concurrent.Future$$anonfun$andThen$1.apply(\u001b[32mFuture.scala\u001b[39m:\u001b[32m436\u001b[39m)\r\n  scala.concurrent.Future$$anonfun$andThen$1.apply(\u001b[32mFuture.scala\u001b[39m:\u001b[32m435\u001b[39m)\r\n  scala.concurrent.impl.CallbackRunnable.run(\u001b[32mPromise.scala\u001b[39m:\u001b[32m36\u001b[39m)\r\n  akka.dispatch.BatchingExecutor$AbstractBatch.processBatch(\u001b[32mBatchingExecutor.scala\u001b[39m:\u001b[32m55\u001b[39m)\r\n  akka.dispatch.BatchingExecutor$BlockableBatch$$anonfun$run$1.apply$mcV$sp(\u001b[32mBatchingExecutor.scala\u001b[39m:\u001b[32m91\u001b[39m)\r\n  akka.dispatch.BatchingExecutor$BlockableBatch$$anonfun$run$1.apply(\u001b[32mBatchingExecutor.scala\u001b[39m:\u001b[32m91\u001b[39m)\r\n  akka.dispatch.BatchingExecutor$BlockableBatch$$anonfun$run$1.apply(\u001b[32mBatchingExecutor.scala\u001b[39m:\u001b[32m91\u001b[39m)\r\n  scala.concurrent.BlockContext$.withBlockContext(\u001b[32mBlockContext.scala\u001b[39m:\u001b[32m72\u001b[39m)\r\n  akka.dispatch.BatchingExecutor$BlockableBatch.run(\u001b[32mBatchingExecutor.scala\u001b[39m:\u001b[32m90\u001b[39m)\r\n  akka.dispatch.TaskInvocation.run(\u001b[32mAbstractDispatcher.scala\u001b[39m:\u001b[32m40\u001b[39m)\r\n  akka.dispatch.ForkJoinExecutorConfigurator$AkkaForkJoinTask.exec(\u001b[32mForkJoinExecutorConfigurator.scala\u001b[39m:\u001b[32m44\u001b[39m)\r\n  akka.dispatch.forkjoin.ForkJoinTask.doExec(\u001b[32mForkJoinTask.java\u001b[39m:\u001b[32m260\u001b[39m)\r\n  akka.dispatch.forkjoin.ForkJoinPool$WorkQueue.runTask(\u001b[32mForkJoinPool.java\u001b[39m:\u001b[32m1339\u001b[39m)\r\n  akka.dispatch.forkjoin.ForkJoinPool.runWorker(\u001b[32mForkJoinPool.java\u001b[39m:\u001b[32m1979\u001b[39m)\r\n  akka.dispatch.forkjoin.ForkJoinWorkerThread.run(\u001b[32mForkJoinWorkerThread.java\u001b[39m:\u001b[32m107\u001b[39m)\r\n\u001b[31morg.apache.flink.runtime.JobException: Recovery is suppressed by NoRestartBackoffTimeStrategy\u001b[39m\r\n  org.apache.flink.runtime.executiongraph.failover.flip1.ExecutionFailureHandler.handleFailure(\u001b[32mExecutionFailureHandler.java\u001b[39m:\u001b[32m110\u001b[39m)\r\n  org.apache.flink.runtime.executiongraph.failover.flip1.ExecutionFailureHandler.getFailureHandlingResult(\u001b[32mExecutionFailureHandler.java\u001b[39m:\u001b[32m76\u001b[39m)\r\n  org.apache.flink.runtime.scheduler.DefaultScheduler.handleTaskFailure(\u001b[32mDefaultScheduler.java\u001b[39m:\u001b[32m192\u001b[39m)\r\n  org.apache.flink.runtime.scheduler.DefaultScheduler.maybeHandleTaskFailure(\u001b[32mDefaultScheduler.java\u001b[39m:\u001b[32m186\u001b[39m)\r\n  org.apache.flink.runtime.scheduler.DefaultScheduler.updateTaskExecutionStateInternal(\u001b[32mDefaultScheduler.java\u001b[39m:\u001b[32m180\u001b[39m)\r\n  org.apache.flink.runtime.scheduler.SchedulerBase.updateTaskExecutionState(\u001b[32mSchedulerBase.java\u001b[39m:\u001b[32m496\u001b[39m)\r\n  org.apache.flink.runtime.scheduler.UpdateSchedulerNgOnInternalFailuresListener.notifyTaskFailure(\u001b[32mUpdateSchedulerNgOnInternalFailuresListener.java\u001b[39m:\u001b[32m49\u001b[39m)\r\n  org.apache.flink.runtime.executiongraph.ExecutionGraph.notifySchedulerNgAboutInternalTaskFailure(\u001b[32mExecutionGraph.java\u001b[39m:\u001b[32m1703\u001b[39m)\r\n  org.apache.flink.runtime.executiongraph.Execution.processFail(\u001b[32mExecution.java\u001b[39m:\u001b[32m1252\u001b[39m)\r\n  org.apache.flink.runtime.executiongraph.Execution.processFail(\u001b[32mExecution.java\u001b[39m:\u001b[32m1220\u001b[39m)\r\n  org.apache.flink.runtime.executiongraph.Execution.fail(\u001b[32mExecution.java\u001b[39m:\u001b[32m955\u001b[39m)\r\n  org.apache.flink.runtime.jobmaster.slotpool.SingleLogicalSlot.signalPayloadRelease(\u001b[32mSingleLogicalSlot.java\u001b[39m:\u001b[32m173\u001b[39m)\r\n  org.apache.flink.runtime.jobmaster.slotpool.SingleLogicalSlot.release(\u001b[32mSingleLogicalSlot.java\u001b[39m:\u001b[32m165\u001b[39m)\r\n  org.apache.flink.runtime.jobmaster.slotpool.SlotSharingManager$SingleTaskSlot.release(\u001b[32mSlotSharingManager.java\u001b[39m:\u001b[32m732\u001b[39m)\r\n  org.apache.flink.runtime.jobmaster.slotpool.SlotSharingManager$MultiTaskSlot.release(\u001b[32mSlotSharingManager.java\u001b[39m:\u001b[32m537\u001b[39m)\r\n  org.apache.flink.runtime.jobmaster.slotpool.AllocatedSlot.releasePayload(\u001b[32mAllocatedSlot.java\u001b[39m:\u001b[32m149\u001b[39m)\r\n  org.apache.flink.runtime.jobmaster.slotpool.SlotPoolImpl.releaseTaskManagerInternal(\u001b[32mSlotPoolImpl.java\u001b[39m:\u001b[32m818\u001b[39m)\r\n  org.apache.flink.runtime.jobmaster.slotpool.SlotPoolImpl.releaseTaskManager(\u001b[32mSlotPoolImpl.java\u001b[39m:\u001b[32m777\u001b[39m)\r\n  org.apache.flink.runtime.jobmaster.JobMaster.disconnectTaskManager(\u001b[32mJobMaster.java\u001b[39m:\u001b[32m421\u001b[39m)\r\n  org.apache.flink.runtime.jobmaster.JobMaster$TaskManagerHeartbeatListener.notifyHeartbeatTimeout(\u001b[32mJobMaster.java\u001b[39m:\u001b[32m1146\u001b[39m)\r\n  org.apache.flink.runtime.heartbeat.HeartbeatMonitorImpl.run(\u001b[32mHeartbeatMonitorImpl.java\u001b[39m:\u001b[32m109\u001b[39m)\r\n  java.util.concurrent.Executors$RunnableAdapter.call(\u001b[32mExecutors.java\u001b[39m:\u001b[32m515\u001b[39m)\r\n  java.util.concurrent.FutureTask.run(\u001b[32mFutureTask.java\u001b[39m:\u001b[32m264\u001b[39m)\r\n  org.apache.flink.runtime.rpc.akka.AkkaRpcActor.handleRunAsync(\u001b[32mAkkaRpcActor.java\u001b[39m:\u001b[32m404\u001b[39m)\r\n  org.apache.flink.runtime.rpc.akka.AkkaRpcActor.handleRpcMessage(\u001b[32mAkkaRpcActor.java\u001b[39m:\u001b[32m197\u001b[39m)\r\n  org.apache.flink.runtime.rpc.akka.FencedAkkaRpcActor.handleRpcMessage(\u001b[32mFencedAkkaRpcActor.java\u001b[39m:\u001b[32m74\u001b[39m)\r\n  org.apache.flink.runtime.rpc.akka.AkkaRpcActor.handleMessage(\u001b[32mAkkaRpcActor.java\u001b[39m:\u001b[32m154\u001b[39m)\r\n  akka.japi.pf.UnitCaseStatement.apply(\u001b[32mCaseStatements.scala\u001b[39m:\u001b[32m26\u001b[39m)\r\n  akka.japi.pf.UnitCaseStatement.apply(\u001b[32mCaseStatements.scala\u001b[39m:\u001b[32m21\u001b[39m)\r\n  scala.PartialFunction$class.applyOrElse(\u001b[32mPartialFunction.scala\u001b[39m:\u001b[32m123\u001b[39m)\r\n  akka.japi.pf.UnitCaseStatement.applyOrElse(\u001b[32mCaseStatements.scala\u001b[39m:\u001b[32m21\u001b[39m)\r\n  scala.PartialFunction$OrElse.applyOrElse(\u001b[32mPartialFunction.scala\u001b[39m:\u001b[32m170\u001b[39m)\r\n  scala.PartialFunction$OrElse.applyOrElse(\u001b[32mPartialFunction.scala\u001b[39m:\u001b[32m171\u001b[39m)\r\n  scala.PartialFunction$OrElse.applyOrElse(\u001b[32mPartialFunction.scala\u001b[39m:\u001b[32m171\u001b[39m)\r\n  akka.actor.Actor$class.aroundReceive(\u001b[32mActor.scala\u001b[39m:\u001b[32m517\u001b[39m)\r\n  akka.actor.AbstractActor.aroundReceive(\u001b[32mAbstractActor.scala\u001b[39m:\u001b[32m225\u001b[39m)\r\n  akka.actor.ActorCell.receiveMessage(\u001b[32mActorCell.scala\u001b[39m:\u001b[32m592\u001b[39m)\r\n  akka.actor.ActorCell.invoke(\u001b[32mActorCell.scala\u001b[39m:\u001b[32m561\u001b[39m)\r\n  akka.dispatch.Mailbox.processMailbox(\u001b[32mMailbox.scala\u001b[39m:\u001b[32m258\u001b[39m)\r\n  akka.dispatch.Mailbox.run(\u001b[32mMailbox.scala\u001b[39m:\u001b[32m225\u001b[39m)\r\n  akka.dispatch.Mailbox.exec(\u001b[32mMailbox.scala\u001b[39m:\u001b[32m235\u001b[39m)\r\n  akka.dispatch.forkjoin.ForkJoinTask.doExec(\u001b[32mForkJoinTask.java\u001b[39m:\u001b[32m260\u001b[39m)\r\n  akka.dispatch.forkjoin.ForkJoinPool$WorkQueue.runTask(\u001b[32mForkJoinPool.java\u001b[39m:\u001b[32m1339\u001b[39m)\r\n  akka.dispatch.forkjoin.ForkJoinPool.runWorker(\u001b[32mForkJoinPool.java\u001b[39m:\u001b[32m1979\u001b[39m)\r\n  akka.dispatch.forkjoin.ForkJoinWorkerThread.run(\u001b[32mForkJoinWorkerThread.java\u001b[39m:\u001b[32m107\u001b[39m)\r\n\u001b[31mjava.util.concurrent.TimeoutException: Heartbeat of TaskManager with id ddad8a74-ecf1-4e11-8dcf-bbb9d0b0abb2 timed out.\u001b[39m\r\n  org.apache.flink.runtime.jobmaster.JobMaster$TaskManagerHeartbeatListener.notifyHeartbeatTimeout(\u001b[32mJobMaster.java\u001b[39m:\u001b[32m1146\u001b[39m)\r\n  org.apache.flink.runtime.heartbeat.HeartbeatMonitorImpl.run(\u001b[32mHeartbeatMonitorImpl.java\u001b[39m:\u001b[32m109\u001b[39m)\r\n  java.util.concurrent.Executors$RunnableAdapter.call(\u001b[32mExecutors.java\u001b[39m:\u001b[32m515\u001b[39m)\r\n  java.util.concurrent.FutureTask.run(\u001b[32mFutureTask.java\u001b[39m:\u001b[32m264\u001b[39m)\r\n  org.apache.flink.runtime.rpc.akka.AkkaRpcActor.handleRunAsync(\u001b[32mAkkaRpcActor.java\u001b[39m:\u001b[32m404\u001b[39m)\r\n  org.apache.flink.runtime.rpc.akka.AkkaRpcActor.handleRpcMessage(\u001b[32mAkkaRpcActor.java\u001b[39m:\u001b[32m197\u001b[39m)\r\n  org.apache.flink.runtime.rpc.akka.FencedAkkaRpcActor.handleRpcMessage(\u001b[32mFencedAkkaRpcActor.java\u001b[39m:\u001b[32m74\u001b[39m)\r\n  org.apache.flink.runtime.rpc.akka.AkkaRpcActor.handleMessage(\u001b[32mAkkaRpcActor.java\u001b[39m:\u001b[32m154\u001b[39m)\r\n  akka.japi.pf.UnitCaseStatement.apply(\u001b[32mCaseStatements.scala\u001b[39m:\u001b[32m26\u001b[39m)\r\n  akka.japi.pf.UnitCaseStatement.apply(\u001b[32mCaseStatements.scala\u001b[39m:\u001b[32m21\u001b[39m)\r\n  scala.PartialFunction$class.applyOrElse(\u001b[32mPartialFunction.scala\u001b[39m:\u001b[32m123\u001b[39m)\r\n  akka.japi.pf.UnitCaseStatement.applyOrElse(\u001b[32mCaseStatements.scala\u001b[39m:\u001b[32m21\u001b[39m)\r\n  scala.PartialFunction$OrElse.applyOrElse(\u001b[32mPartialFunction.scala\u001b[39m:\u001b[32m170\u001b[39m)\r\n  scala.PartialFunction$OrElse.applyOrElse(\u001b[32mPartialFunction.scala\u001b[39m:\u001b[32m171\u001b[39m)\r\n  scala.PartialFunction$OrElse.applyOrElse(\u001b[32mPartialFunction.scala\u001b[39m:\u001b[32m171\u001b[39m)\r\n  akka.actor.Actor$class.aroundReceive(\u001b[32mActor.scala\u001b[39m:\u001b[32m517\u001b[39m)\r\n  akka.actor.AbstractActor.aroundReceive(\u001b[32mAbstractActor.scala\u001b[39m:\u001b[32m225\u001b[39m)\r\n  akka.actor.ActorCell.receiveMessage(\u001b[32mActorCell.scala\u001b[39m:\u001b[32m592\u001b[39m)\r\n  akka.actor.ActorCell.invoke(\u001b[32mActorCell.scala\u001b[39m:\u001b[32m561\u001b[39m)\r\n  akka.dispatch.Mailbox.processMailbox(\u001b[32mMailbox.scala\u001b[39m:\u001b[32m258\u001b[39m)\r\n  akka.dispatch.Mailbox.run(\u001b[32mMailbox.scala\u001b[39m:\u001b[32m225\u001b[39m)\r\n  akka.dispatch.Mailbox.exec(\u001b[32mMailbox.scala\u001b[39m:\u001b[32m235\u001b[39m)\r\n  akka.dispatch.forkjoin.ForkJoinTask.doExec(\u001b[32mForkJoinTask.java\u001b[39m:\u001b[32m260\u001b[39m)\r\n  akka.dispatch.forkjoin.ForkJoinPool$WorkQueue.runTask(\u001b[32mForkJoinPool.java\u001b[39m:\u001b[32m1339\u001b[39m)\r\n  akka.dispatch.forkjoin.ForkJoinPool.runWorker(\u001b[32mForkJoinPool.java\u001b[39m:\u001b[32m1979\u001b[39m)\r\n  akka.dispatch.forkjoin.ForkJoinWorkerThread.run(\u001b[32mForkJoinWorkerThread.java\u001b[39m:\u001b[32m107\u001b[39m)"
     ]
    }
   ],
   "source": [
    "type TT = Int\n",
    "val path = os.pwd / \"csv\"\n",
    "\n",
    "val _10      = benv.readCsvFile[T](path+\"/10.csv\", fieldDelimiter = \";\")\n",
    "val _001in1M = benv.readCsvFile[T](path+\"/001in1M.csv\", fieldDelimiter = \";\")\n",
    "val _010in1M = benv.readCsvFile[T](path+\"/010in1M.csv\", fieldDelimiter = \";\")\n",
    "val _020in1M = benv.readCsvFile[T](path+\"/020in1M.csv\", fieldDelimiter = \";\")\n",
    "val _030in1M = benv.readCsvFile[T](path+\"/030in1M.csv\", fieldDelimiter = \";\")\n",
    "val _040in1M = benv.readCsvFile[T](path+\"/040in1M.csv\", fieldDelimiter = \";\")\n",
    "val _050in1M = benv.readCsvFile[T](path+\"/050in1M.csv\", fieldDelimiter = \";\")\n",
    "val _060in1M = benv.readCsvFile[T](path+\"/060in1M.csv\", fieldDelimiter = \";\")\n",
    "val _070in1M = benv.readCsvFile[T](path+\"/070in1M.csv\", fieldDelimiter = \";\")\n",
    "val _080in1M = benv.readCsvFile[T](path+\"/080in1M.csv\", fieldDelimiter = \";\")\n",
    "val _090in1M = benv.readCsvFile[T](path+\"/090in1M.csv\", fieldDelimiter = \";\")\n",
    "val _100in1M = benv.readCsvFile[T](path+\"/100in1M.csv\", fieldDelimiter = \";\")\n",
    "\n",
    "\n",
    "println(\"Formula performance 1: A(Start, Stop) (E(Cond) (True))\")\n",
    "println(\"Formula performance 2: A2(Start, Stop) (E2(Cond) (True))\")\n",
    "println(\"Both formulae check if eventually exists number 2 in any interval (1, 3)\")\n",
    "def Start: (TT => Boolean) = (e: TT) => {e == 1}\n",
    "def Stop : (TT => Boolean) = (e: TT) => {e == 3}\n",
    "def Cond : (TT => Boolean) = (e: TT) => {e == 2}\n",
    "println(\"The stream example contains:\")\n",
    "println(_10.collect)\n",
    "println(\"We will increase the number of this interval from 10 to 100 and mesure the elapsed time.\")\n",
    "\n",
    "val f = (d : org.apache.flink.api.scala.DataSet[(Long, TT)]) => A(Start, Stop) (E(Cond) (True)) (d, 0, Long.MaxValue)\n",
    "val f2 = (d : org.apache.flink.api.scala.DataSet[(Long, TT)]) => A2(Start, Stop) (E2(Cond) (True)) (d, 0, Long.MaxValue)\n",
    "val Time2Long = (e: Quantity[Double]) => e.value.toLong \n",
    "\n",
    "for(i <- 1 to 10){\n",
    "     val list = List(_010in1M, _020in1M, _030in1M, _040in1M, _050in1M, _060in1M, _070in1M,\n",
    "                    _080in1M, _090in1M, _100in1M).map(b => measure(f(b)))\n",
    "     val list2 = List(_010in1M, _020in1M, _030in1M, _040in1M, _050in1M, _060in1M, _070in1M,\n",
    "                    _080in1M, _090in1M, _100in1M).map(b => measure(f2(b)))                     \n",
    "     println(list)\n",
    "     println(list2)\n",
    "     println((list.map(Time2Long(_)) zip list2.map(Time2Long(_))).map(e => e._2 - e._1).mkString(\"; \"))\n",
    "}\n"
   ]
  },
  {
   "cell_type": "code",
   "execution_count": 13,
   "metadata": {},
   "outputs": [
    {
     "data": {
      "text/plain": [
       "\u001b[32mimport \u001b[39m\u001b[36m$ivy.$                                      \n",
       "\u001b[39m\r\n",
       "\u001b[32mimport \u001b[39m\u001b[36margonaut._\n",
       "\u001b[39m\r\n",
       "\u001b[32mimport \u001b[39m\u001b[36mplotly._, plotly.element._, plotly.layout._, plotly.Almond._\n",
       "\n",
       "// if you want to have the plots available without an internet connection:\n",
       "// init(offline=true)\n",
       "\n",
       "// restrict the output height to avoid scrolling in output cells\n",
       "\u001b[39m"
      ]
     },
     "execution_count": 13,
     "metadata": {},
     "output_type": "execute_result"
    }
   ],
   "source": [
    "import $ivy.`org.plotly-scala::plotly-almond:0.7.0`\n",
    "import argonaut._\n",
    "import plotly._, plotly.element._, plotly.layout._, plotly.Almond._\n",
    "\n",
    "// if you want to have the plots available without an internet connection:\n",
    "// init(offline=true)\n",
    "\n",
    "// restrict the output height to avoid scrolling in output cells\n",
    "repl.pprinter() = repl.pprinter().copy(defaultHeight = 3)"
   ]
  },
  {
   "cell_type": "code",
   "execution_count": 14,
   "metadata": {},
   "outputs": [
    {
     "data": {
      "text/plain": [
       "\u001b[32mimport \u001b[39m\u001b[36m$ivy.$                            \n",
       "\u001b[39m\r\n",
       "\u001b[32mimport \u001b[39m\u001b[36mvegas._\n",
       "\u001b[39m\r\n",
       "\u001b[32mimport \u001b[39m\u001b[36mvegas.data.External._\u001b[39m"
      ]
     },
     "execution_count": 14,
     "metadata": {},
     "output_type": "execute_result"
    }
   ],
   "source": [
    "import $ivy.`org.vegas-viz::vegas:0.3.11`\n",
    "import vegas._\n",
    "import vegas.data.External._"
   ]
  },
  {
   "cell_type": "code",
   "execution_count": 28,
   "metadata": {},
   "outputs": [
    {
     "data": {
      "text/html": [
       "\n",
       "  <iframe id=\"frame-vegas-aef4acec-b884-483d-ab46-77946f78e8bd\" sandbox=\"allow-scripts allow-same-origin\" style=\"border: none; width: 100%\" srcdoc=\"&lt;html&gt;\n",
       "  &lt;head&gt;\n",
       "    &lt;script src=&quot;https://cdn.jsdelivr.net/webjars/org.webjars.bower/d3/3.5.17/d3.min.js&quot; charset=&quot;utf-8&quot;&gt;&lt;/script&gt;\n",
       "&lt;script src=&quot;https://cdn.jsdelivr.net/webjars/org.webjars.bower/vega/2.6.3/vega.min.js&quot; charset=&quot;utf-8&quot;&gt;&lt;/script&gt;\n",
       "&lt;script src=&quot;https://cdn.jsdelivr.net/webjars/org.webjars.bower/vega-lite/1.2.0/vega-lite.min.js&quot; charset=&quot;utf-8&quot;&gt;&lt;/script&gt;\n",
       "&lt;script src=&quot;https://vega.github.io/vega-editor/vendor/vega-embed.js&quot; charset=&quot;utf-8&quot;&gt;&lt;/script&gt;\n",
       "  &lt;/head&gt;\n",
       "  &lt;body&gt;\n",
       " &lt;div id='vegas-aef4acec-b884-483d-ab46-77946f78e8bd'&gt;&lt;/div&gt;\n",
       " &lt;script&gt;\n",
       "   var embedSpec = {\n",
       "     mode: &quot;vega-lite&quot;,\n",
       "     spec: {\n",
       "  &quot;mark&quot; : &quot;bar&quot;,\n",
       "  &quot;encoding&quot; : {\n",
       "    &quot;column&quot; : {\n",
       "      &quot;axis&quot; : {\n",
       "        &quot;orient&quot; : &quot;bottom&quot;,\n",
       "        &quot;axisWidth&quot; : 1.0,\n",
       "        &quot;offset&quot; : -8.0\n",
       "      },\n",
       "      &quot;scale&quot; : {\n",
       "        &quot;padding&quot; : 4.0\n",
       "      },\n",
       "      &quot;field&quot; : &quot;age&quot;,\n",
       "      &quot;type&quot; : &quot;ordinal&quot;\n",
       "    },\n",
       "    &quot;x&quot; : {\n",
       "      &quot;axis&quot; : false,\n",
       "      &quot;scale&quot; : {\n",
       "        &quot;bandSize&quot; : 6.0\n",
       "      },\n",
       "      &quot;field&quot; : &quot;gender&quot;,\n",
       "      &quot;type&quot; : &quot;nominal&quot;\n",
       "    },\n",
       "    &quot;y&quot; : {\n",
       "      &quot;axis&quot; : {\n",
       "        &quot;title&quot; : &quot;population&quot;,\n",
       "        &quot;grid&quot; : false\n",
       "      },\n",
       "      &quot;field&quot; : &quot;people&quot;,\n",
       "      &quot;type&quot; : &quot;quantitative&quot;,\n",
       "      &quot;aggregate&quot; : &quot;sum&quot;\n",
       "    },\n",
       "    &quot;color&quot; : {\n",
       "      &quot;scale&quot; : {\n",
       "        &quot;range&quot; : [\n",
       "          &quot;#EA98D2&quot;,\n",
       "          &quot;#659CCA&quot;\n",
       "        ]\n",
       "      },\n",
       "      &quot;field&quot; : &quot;gender&quot;,\n",
       "      &quot;type&quot; : &quot;nominal&quot;\n",
       "    }\n",
       "  },\n",
       "  &quot;data&quot; : {\n",
       "    &quot;url&quot; : &quot;https://vega.github.io/vega-editor/app/data/population.json&quot;\n",
       "  },\n",
       "  &quot;transform&quot; : {\n",
       "    &quot;filter&quot; : &quot;datum.year == 2000&quot;,\n",
       "    &quot;calculate&quot; : [\n",
       "      {\n",
       "        &quot;field&quot; : &quot;gender&quot;,\n",
       "        &quot;expr&quot; : &quot;datum.sex == 2 ? \\&quot;Female\\&quot; : \\&quot;Male\\&quot;&quot;\n",
       "      }\n",
       "    ]\n",
       "  },\n",
       "  &quot;config&quot; : {\n",
       "    &quot;facet&quot; : {\n",
       "      &quot;cell&quot; : {\n",
       "        &quot;strokeWidth&quot; : 0.0\n",
       "      }\n",
       "    }\n",
       "  }\n",
       "}\n",
       "   }\n",
       "   vg.embed(&quot;#vegas-aef4acec-b884-483d-ab46-77946f78e8bd&quot;, embedSpec, function(error, result) {});\n",
       " &lt;/script&gt;\n",
       "\n",
       "    &lt;/body&gt;\n",
       "&lt;/html&gt;\"></iframe>\n",
       "  <script>\n",
       "    (function() {\n",
       "      function resizeIFrame(el, k) {\n",
       "        var height = el.contentWindow.document.body.scrollHeight || '400'; // Fallback in case of no scroll height\n",
       "        el.style.height = height + 'px';\n",
       "        if (k <= 10) { setTimeout(function() { resizeIFrame(el, k+1) }, 1000 + (k * 250)) };\n",
       "      }\n",
       "      resizeIFrame(document.querySelector('#frame-vegas-aef4acec-b884-483d-ab46-77946f78e8bd'), 1);\n",
       "    })(); // IIFE\n",
       "  </script>\n",
       "    "
      ]
     },
     "metadata": {},
     "output_type": "display_data"
    }
   ],
   "source": [
    "Vegas().\n",
    "  withURL(Population).\n",
    "  mark(Bar).\n",
    "  addTransformCalculation(\"gender\", \"\"\"datum.sex == 2 ? \"Female\" : \"Male\"\"\"\").\n",
    "  filter(\"datum.year == 2000\").\n",
    "  encodeColumn(\"age\", Ord, scale=Scale(padding=4.0), axis=Axis(orient=Orient.Bottom, axisWidth=1.0, offset= -8.0)).\n",
    "  encodeY(\"people\", Quantitative, aggregate=AggOps.Sum, axis=Axis(title=\"population\", grid=false)).\n",
    "  encodeX(\"gender\", Nominal, scale=Scale(bandSize = 6.0), hideAxis=true).\n",
    "  encodeColor(\"gender\", Nominal, scale=Scale(rangeNominals=List(\"#EA98D2\", \"#659CCA\"))).\n",
    "  configFacet(cell=CellConfig(strokeWidth = 0)).\n",
    "  show"
   ]
  },
  {
   "cell_type": "code",
   "execution_count": 16,
   "metadata": {},
   "outputs": [
    {
     "data": {
      "text/plain": [
       "\u001b[32mimport \u001b[39m\u001b[36m$ivy.$                                  \n",
       "\u001b[39m\r\n",
       "\u001b[32mimport \u001b[39m\u001b[36mvegas.flink.Flink._\u001b[39m"
      ]
     },
     "execution_count": 16,
     "metadata": {},
     "output_type": "execute_result"
    }
   ],
   "source": [
    "import $ivy.`org.vegas-viz::vegas-flink:0.3.11`\n",
    "import vegas.flink.Flink._"
   ]
  },
  {
   "cell_type": "code",
   "execution_count": 67,
   "metadata": {},
   "outputs": [
    {
     "data": {
      "text/html": [
       "\n",
       "  <iframe id=\"frame-vegas-35570f34-8785-45c2-99e6-eff50a682e23\" sandbox=\"allow-scripts allow-same-origin\" style=\"border: none; width: 100%\" srcdoc=\"&lt;html&gt;\n",
       "  &lt;head&gt;\n",
       "    &lt;script src=&quot;https://cdn.jsdelivr.net/webjars/org.webjars.bower/d3/3.5.17/d3.min.js&quot; charset=&quot;utf-8&quot;&gt;&lt;/script&gt;\n",
       "&lt;script src=&quot;https://cdn.jsdelivr.net/webjars/org.webjars.bower/vega/2.6.3/vega.min.js&quot; charset=&quot;utf-8&quot;&gt;&lt;/script&gt;\n",
       "&lt;script src=&quot;https://cdn.jsdelivr.net/webjars/org.webjars.bower/vega-lite/1.2.0/vega-lite.min.js&quot; charset=&quot;utf-8&quot;&gt;&lt;/script&gt;\n",
       "&lt;script src=&quot;https://vega.github.io/vega-editor/vendor/vega-embed.js&quot; charset=&quot;utf-8&quot;&gt;&lt;/script&gt;\n",
       "  &lt;/head&gt;\n",
       "  &lt;body&gt;\n",
       " &lt;div id='vegas-35570f34-8785-45c2-99e6-eff50a682e23'&gt;&lt;/div&gt;\n",
       " &lt;script&gt;\n",
       "   var embedSpec = {\n",
       "     mode: &quot;vega-lite&quot;,\n",
       "     spec: {\n",
       "  &quot;mark&quot; : &quot;bar&quot;,\n",
       "  &quot;encoding&quot; : {\n",
       "    &quot;column&quot; : {\n",
       "      &quot;axis&quot; : {\n",
       "        &quot;orient&quot; : &quot;bottom&quot;,\n",
       "        &quot;axisWidth&quot; : 2.0,\n",
       "        &quot;offset&quot; : 0.0\n",
       "      },\n",
       "      &quot;scale&quot; : {\n",
       "        &quot;padding&quot; : 4.0\n",
       "      },\n",
       "      &quot;field&quot; : &quot;a&quot;,\n",
       "      &quot;type&quot; : &quot;ordinal&quot;\n",
       "    },\n",
       "    &quot;x&quot; : {\n",
       "      &quot;axis&quot; : false,\n",
       "      &quot;scale&quot; : {\n",
       "        &quot;bandSize&quot; : 3.0\n",
       "      },\n",
       "      &quot;field&quot; : &quot;a&quot;,\n",
       "      &quot;type&quot; : &quot;ordinal&quot;\n",
       "    },\n",
       "    &quot;y&quot; : {\n",
       "      &quot;axis&quot; : {\n",
       "        &quot;title&quot; : &quot;Duration [ms]&quot;,\n",
       "        &quot;grid&quot; : false\n",
       "      },\n",
       "      &quot;field&quot; : &quot;b&quot;,\n",
       "      &quot;type&quot; : &quot;quantitative&quot;\n",
       "    },\n",
       "    &quot;color&quot; : {\n",
       "      &quot;scale&quot; : {\n",
       "        &quot;range&quot; : [\n",
       "          &quot;#EA98D2&quot;,\n",
       "          &quot;#659CCA&quot;\n",
       "        ]\n",
       "      },\n",
       "      &quot;field&quot; : &quot;Type&quot;,\n",
       "      &quot;type&quot; : &quot;nominal&quot;\n",
       "    }\n",
       "  },\n",
       "  &quot;data&quot; : {\n",
       "    &quot;values&quot; : [\n",
       "      {\n",
       "        &quot;a&quot; : &quot;A&quot;,\n",
       "        &quot;b&quot; : 28,\n",
       "        &quot;Type&quot; : &quot;Recursive&quot;\n",
       "      },\n",
       "      {\n",
       "        &quot;a&quot; : &quot;A2&quot;,\n",
       "        &quot;b&quot; : 55,\n",
       "        &quot;Type&quot; : &quot;Direct&quot;\n",
       "      },\n",
       "      {\n",
       "        &quot;a&quot; : &quot;B&quot;,\n",
       "        &quot;b&quot; : 43,\n",
       "        &quot;Type&quot; : &quot;Recursive&quot;\n",
       "      },\n",
       "      {\n",
       "        &quot;a&quot; : &quot;B2&quot;,\n",
       "        &quot;b&quot; : 80,\n",
       "        &quot;Type&quot; : &quot;Direct&quot;\n",
       "      },\n",
       "      {\n",
       "        &quot;a&quot; : &quot;C&quot;,\n",
       "        &quot;b&quot; : 81,\n",
       "        &quot;Type&quot; : &quot;Recursive&quot;\n",
       "      },\n",
       "      {\n",
       "        &quot;a&quot; : &quot;C2&quot;,\n",
       "        &quot;b&quot; : 30,\n",
       "        &quot;Type&quot; : &quot;Direct&quot;\n",
       "      },\n",
       "      {\n",
       "        &quot;a&quot; : &quot;D&quot;,\n",
       "        &quot;b&quot; : 21,\n",
       "        &quot;Type&quot; : &quot;Recursive&quot;\n",
       "      },\n",
       "      {\n",
       "        &quot;a&quot; : &quot;D2&quot;,\n",
       "        &quot;b&quot; : 70,\n",
       "        &quot;Type&quot; : &quot;Direct&quot;\n",
       "      }\n",
       "    ]\n",
       "  },\n",
       "  &quot;config&quot; : {\n",
       "    &quot;facet&quot; : {\n",
       "      &quot;cell&quot; : {\n",
       "        &quot;strokeWidth&quot; : 0.0\n",
       "      }\n",
       "    }\n",
       "  }\n",
       "}\n",
       "   }\n",
       "   vg.embed(&quot;#vegas-35570f34-8785-45c2-99e6-eff50a682e23&quot;, embedSpec, function(error, result) {});\n",
       " &lt;/script&gt;\n",
       "\n",
       "    &lt;/body&gt;\n",
       "&lt;/html&gt;\"></iframe>\n",
       "  <script>\n",
       "    (function() {\n",
       "      function resizeIFrame(el, k) {\n",
       "        var height = el.contentWindow.document.body.scrollHeight || '400'; // Fallback in case of no scroll height\n",
       "        el.style.height = height + 'px';\n",
       "        if (k <= 10) { setTimeout(function() { resizeIFrame(el, k+1) }, 1000 + (k * 250)) };\n",
       "      }\n",
       "      resizeIFrame(document.querySelector('#frame-vegas-35570f34-8785-45c2-99e6-eff50a682e23'), 1);\n",
       "    })(); // IIFE\n",
       "  </script>\n",
       "    "
      ]
     },
     "metadata": {},
     "output_type": "display_data"
    }
   ],
   "source": [
    "Vegas().\n",
    "    withData(Seq(\n",
    "    Map(\"a\" -> \"A\", \"b\" -> 28, \"Type\" -> \"Recursive\"), Map(\"a\" -> \"A2\", \"b\" -> 55, \"Type\" -> \"Direct\"), \n",
    "    Map(\"a\" -> \"B\", \"b\" -> 43, \"Type\" -> \"Recursive\"), Map(\"a\" -> \"B2\", \"b\" -> 80, \"Type\" -> \"Direct\"),\n",
    "    Map(\"a\" -> \"C\", \"b\" -> 81, \"Type\" -> \"Recursive\"), Map(\"a\" -> \"C2\", \"b\" -> 30, \"Type\" -> \"Direct\"),\n",
    "    Map(\"a\" -> \"D\", \"b\" -> 21, \"Type\" -> \"Recursive\"), Map(\"a\" -> \"D2\", \"b\" -> 70, \"Type\" -> \"Direct\")\n",
    "  )).\n",
    "    mark(Bar).\n",
    "    encodeColumn(\"a\", Ordinal, scale=Scale(padding=4.0), axis=Axis(orient=Orient.Bottom, axisWidth=2.0, offset= 0.0)).\n",
    "    encodeX(\"a\", Ordinal, scale=Scale(bandSize = 3.0), hideAxis=true).\n",
    "    encodeY(\"b\", Quantitative, axis=Axis(title=\"Duration [ms]\", grid=false)).\n",
    "    encodeColor(\"Type\", Nominal, scale=Scale(rangeNominals=List(\"#EA98D2\", \"#659CCA\"))).\n",
    "    configFacet(cell=CellConfig(strokeWidth = 0)).\n",
    "    show"
   ]
  },
  {
   "cell_type": "code",
   "execution_count": null,
   "metadata": {},
   "outputs": [],
   "source": []
  }
 ],
 "metadata": {
  "kernelspec": {
   "display_name": "Scala (2.11)",
   "language": "scala",
   "name": "scala211"
  },
  "language_info": {
   "codemirror_mode": "text/x-scala",
   "file_extension": ".scala",
   "mimetype": "text/x-scala",
   "name": "scala",
   "nbconvert_exporter": "script",
   "version": "2.11.12"
  }
 },
 "nbformat": 4,
 "nbformat_minor": 4
}
